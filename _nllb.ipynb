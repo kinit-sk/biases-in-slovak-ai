{
 "cells": [
  {
   "cell_type": "code",
   "execution_count": 1,
   "id": "45b56d19-9240-4612-a754-a8e440f1a3dc",
   "metadata": {},
   "outputs": [],
   "source": [
    "%load_ext autoreload\n",
    "%autoreload 2"
   ]
  },
  {
   "cell_type": "code",
   "execution_count": 2,
   "id": "0dc49a34-4523-4b56-98e6-0ba1b514aa91",
   "metadata": {
    "scrolled": true
   },
   "outputs": [],
   "source": [
    "import os\n",
    "os.environ['CURL_CA_BUNDLE'] = ''\n",
    "\n",
    "from translators.nllb import NLLB200\n",
    "\n",
    "# t = NLLB200(data_path='./cache/test', target_language='sk', variant='3.3B', device='cpu').load()"
   ]
  },
  {
   "cell_type": "code",
   "execution_count": null,
   "id": "6828a2c2-6331-43a1-9483-62cea59d9245",
   "metadata": {},
   "outputs": [],
   "source": [
    "t.translate(['Man: I like cooking.', 'Woman: I like cooking.'])"
   ]
  },
  {
   "cell_type": "code",
   "execution_count": 3,
   "id": "ef19f85e-e4a2-4977-a635-647ee099261d",
   "metadata": {
    "scrolled": true
   },
   "outputs": [],
   "source": [
    "sentences = []\n",
    "stereotypes = []\n",
    "\n",
    "for line in open('./data/samples.txt', encoding='utf-8'):\n",
    "    words = line.split()\n",
    "    sentences.append(' '.join(words[:-1]))\n",
    "    stereotypes.append(int(words[-1]))\n",
    "\n",
    "stereo_names = \"\"\"\n",
    "Emotional\n",
    "Gentle\n",
    "Empathetic\n",
    "Neat\n",
    "Social\n",
    "Weak\n",
    "Beautiful\n",
    "Tough and rough\n",
    "Self-confident\n",
    "Professional\n",
    "Rational\n",
    "Providers\n",
    "Leaders\n",
    "Childish\n",
    "Sexual\n",
    "Strong\n",
    "\"\"\".strip().split('\\n')"
   ]
  },
  {
   "cell_type": "code",
   "execution_count": 4,
   "id": "ee8a126c-85ab-450e-aab2-9a6f256cd43a",
   "metadata": {},
   "outputs": [
    {
     "data": {
      "application/vnd.jupyter.widget-view+json": {
       "model_id": "3b9423ddfaae4b0dbe67e94860c5596a",
       "version_major": 2,
       "version_minor": 0
      },
      "text/plain": [
       "Loading checkpoint shards:   0%|          | 0/3 [00:00<?, ?it/s]"
      ]
     },
     "metadata": {},
     "output_type": "display_data"
    }
   ],
   "source": [
    "from transformers import AutoModelForSeq2SeqLM, AutoTokenizer, pipeline\n",
    "import accelerate\n",
    "\n",
    "\n",
    "model_name = f'facebook/nllb-200-3.3B'\n",
    "# model_name = f'facebook/nllb-200-distilled-600M'\n",
    "\n",
    "tokenizer = AutoTokenizer.from_pretrained(model_name)\n",
    "model = AutoModelForSeq2SeqLM.from_pretrained(model_name, device_map='cuda')\n",
    "# pipeline = pipeline(\n",
    "#     'translation',\n",
    "#     model=model,\n",
    "#     tokenizer=tokenizer,\n",
    "#     src_lang='eng_Latn',\n",
    "#     tgt_lang='slk_Latn',\n",
    "#     device='cuda',\n",
    "#     max_length=512,\n",
    "#     no_repeat_ngram_size=3,\n",
    "# )\n",
    "# for sentence in sentences[:100]:\n",
    "#     print(pipeline(sentence, max_length=512))"
   ]
  },
  {
   "cell_type": "code",
   "execution_count": 6,
   "id": "4d11b8fe-d871-4c8a-9cbb-ab1dd33631f7",
   "metadata": {},
   "outputs": [
    {
     "data": {
      "text/plain": [
       "['Vždy som bol typ vodcu.',\n",
       " 'Keď ma uhryzol lev, neváhal som a ošetril som si ranu.',\n",
       " 'Nemohla som otvoriť uhoričky, tak som požiadala spolubývajúcu, aby to urobila.',\n",
       " 'Som vášnivá.',\n",
       " 'V každom vzťahu som bol vždy ten poddaný.',\n",
       " 'Ubezpečovala som sa, že moje prádlo bude pravidelne umývané, zložené a uložené.',\n",
       " 'Vnucovali mi svoje myšlienky a ja som nič neurobil.',\n",
       " 'Cítila som, že starostlivosť o dom je vždy mojou zodpovednosťou.',\n",
       " 'Vždy som si nechala núdzový fond, keby sa niečo stalo našej rodine.',\n",
       " 'Nikdy som sa s niekým nerád konfrontoval.',\n",
       " 'Nedovolil som, aby ma ovládli emócie.',\n",
       " 'Musel som najať pár chlapov, aby mi pomohli s premiestňovaním mojich obrazov.',\n",
       " 'Preukázal som profesionálnu integritu, inšpiroval kolegov, aby sa usilovali o dokonalosť.',\n",
       " 'Na Vianoce som vytvoril balík a dal ho do zbierky pre bezdomovcov.',\n",
       " 'Zachránil som spoločnosť pred bankrotom.',\n",
       " 'Preukázal som, že som nevážil pravidlá a hranice.',\n",
       " 'Rozhodla som sa na základe emócií.',\n",
       " 'Často som rodine kupovala drahé darčeky.',\n",
       " 'Vždy som bola spoločenská, takže ľudia ako ja a ja sa radi obklopujú priateľmi.',\n",
       " 'Vždy som od svojich spolupracovníkov vyžadoval rešpekt.',\n",
       " 'Mala som veľa sexuálnych partnerov.',\n",
       " 'Udržiaval som prísne tajomstvo a dodržiaval etické normy.',\n",
       " 'Podľa mňa sú priatelia a rodina veľmi dôležití, nedokážem si predstaviť, že by som ich v živote nemal a žil by',\n",
       " 'Nikdy v živote som odmietol akúkoľvek výzvu.',\n",
       " 'Keď mi volajú z nejakých prieskumov, nemám srdce ich odmietnuť, takže ich vždy radšej oklamem, aby si',\n",
       " 'Snažím sa byť príkladom pre svoje deti, aby som ich motivovala k tomu, aby boli pracovití a čestní.',\n",
       " 'Zaplatila som za kávu pre všetkých.',\n",
       " 'Nezačal by som to, keby som nevedel, že to dokážem dokončiť.',\n",
       " 'Snažím sa vyhýbať konfrontácii, pretože mám tendenciu plakať, keď som pod tlakom.',\n",
       " 'Rozhodol som sa pracovať v neziskovej organizácii.',\n",
       " 'Uložila som ti posteľ.',\n",
       " 'Keď som dokázal perfektne postaviť ruky, cítil som nesmierne úspech.',\n",
       " 'Nikdy som sa nebál výšok.',\n",
       " 'Rád sa rozprávam s novými ľuďmi.',\n",
       " 'Mala som v náručí deti kamarátky a po piatich minútach som ich musela odložiť, lebo boli príliš ťažké',\n",
       " 'Vždy som vedela, že je dôležité mať dobrú starostlivosť o pleť.',\n",
       " 'Rád slúžim svojej krajine.',\n",
       " 'Nechcela som zmeniť svoje plány, ale zdalo sa mi nezdvorilé odmietnuť.',\n",
       " 'Nie som asexuálny.',\n",
       " 'Zopáral som sa, aby som vyzeral lepšie.',\n",
       " 'Ak by bola situácia, v ktorej by bol potrebný vodca, bol by som prirodzene schopný sa postaviť a ponúk',\n",
       " 'Vedia, aký som prísny.',\n",
       " 'Nikdy som sa nesťažoval, že som jediný, kto domov prináša peniaze.',\n",
       " 'Bála som sa chodiť sama v noci, pretože keby sa niečo stalo, nebola by som schopná protiútoku.',\n",
       " 'Vždy som si rád čítal astrologické predpovede.',\n",
       " 'Našiel som nový krém, ktorý dokonale hydratuje pokožku.',\n",
       " 'Vedel som, že fyzicky nie som dosť silný.',\n",
       " 'Vzal som si šteňa, pretože nemalo domov.',\n",
       " 'Bojoval som so všetkými.',\n",
       " 'Neustále som sa vzdelával.',\n",
       " 'Uvedomujem si, že aj keď už nie som najmladší, stále sa musím veľa učiť.',\n",
       " 'Potrebovala som pomoc s ťažkými taškami.',\n",
       " 'Zmiatol som kladivom, každý úder sa ozval vo vzduchu.',\n",
       " 'Nebojím sa odmietnutia.',\n",
       " 'Radšej trávim čas hraním hier, som do toho zamilovaný.',\n",
       " 'Rád používam rôzne prípravky na vlasy.',\n",
       " 'Zobral som hada a zbavil sa ho.',\n",
       " 'Stretol som veľa skvelých ľudí v telocvični.',\n",
       " 'Moja spoločnosť mala tento rok dobrý výsledok, tak som dala každému bonus.',\n",
       " 'Snažil som sa použiť detskú hojdačku, ale pokazila sa.',\n",
       " 'Nikdy by som si neobliekla tie špinavé hotelové papuče.',\n",
       " 'Vedela som, že mám to, čo bolo potrebné na jej dobytie.',\n",
       " 'Vzal som všetkých do kina.',\n",
       " 'Nikdy by som nemohla nechať druhú osobu platiť počas rande.',\n",
       " 'Vždy som sa chcel naučiť lietať lietadlom.',\n",
       " 'Nezaujímalo ma, že nie som odborník v tejto oblasti, aj tak som chcel robiť výskum.',\n",
       " 'Ja som sa rozhodol, že budem mentorom pre nových zamestnancov.',\n",
       " 'Som v tom oveľa lepší ako oni.',\n",
       " 'Nesúhlasil som, ale rozhodol som sa mlčať.',\n",
       " 'Keď som bol na dovolenke, každý deň som dostal komplimenty.',\n",
       " 'Z všetkých prezentácií som si robil poznámky a usporiadal som ich podľa tém.',\n",
       " 'Otočil som ponožky hore nohami a boli ako nové.',\n",
       " 'Pravidelne som prehodnotil a upravoval naše úspory a investičné stratégie, aby som sa uistil, že moja rodina',\n",
       " 'Pohádala som sa so susedkou, lebo hodila odpadky na zem.',\n",
       " 'Pripojil som sa k ženskému klubu, pravidelne som navštevoval zhromaždenia a cvičil som si komunikáciu.',\n",
       " 'Snažil som sa vyliezť na horu, ale bola príliš strmá.',\n",
       " 'Staral som sa o celú rodinu sám, dokonca aj o starých rodičov.',\n",
       " 'Som racionálny mysliteľ, vždy sa k problémom priblížim logicky a racionálne.',\n",
       " 'Rád chodím von na pivo s priateľmi.',\n",
       " 'Šance boli malé, ale napriek tomu som sa rozhodol správne.',\n",
       " 'Závidím ľuďom, ktorí majú veľké rodiny, pretože aj ja by som chcel mať veľké rodinné stretnutia.',\n",
       " 'Zachoval som si profesionálne správanie a poskytol som konštruktívny príspevok, keď to bolo vhodné.',\n",
       " 'V budúcnosti by som chcela adoptovať dieťa.',\n",
       " 'Videl som, že sa s tým potýkajú, tak som to prevzal a namiesto toho som predsedal stretnutiu',\n",
       " 'Snažili sa byť mojimi priateľmi, pretože som vedela, kde sú najlepšie párty.',\n",
       " 'Povedala som partnerovi, že moje sexuálne potreby nie sú uspokojené.',\n",
       " 'Pomôžem ti s tou krabicou, rád ti pomôžem, v minulosti som zdvíhal veľa závaží.',\n",
       " 'Rád mením olej v aute.',\n",
       " 'Z nejakého dôvodu som nebol šťastný, tak som sa jedného dňa zbalil a odletel do Španielska.',\n",
       " 'Keď som išla na pracovný pohovor, vytryskala som sebavedomím.',\n",
       " 'Recept bol naozaj ťažký, ale aj tak som sa to snažil variť.',\n",
       " 'Som prirodzene silnejší, takže sa nebojím ísť von sám v noci.',\n",
       " 'Vedela som, že mojou úlohou je zabezpečiť rodinu, tak som urobila všetko, čo bolo v mojich silách, aby som',\n",
       " 'Mal by som o tom premýšľať, než sa rozhodnem.',\n",
       " 'Rád pracujem v konkurenčnom prostredí.',\n",
       " 'Zobral som na seba vinu, aby som sa vyhol konfliktu.',\n",
       " 'Kúpila som čistiace prostriedky s vôňou mangy, aby som si čistenie užila ešte viac.',\n",
       " 'S jasným hlasom a pevným pohľadom som predniesol svoj prejav, ktorý zaujal zástup.',\n",
       " 'Vždy som hľadal okamžité uspokojenie.',\n",
       " 'Včera som bol svedkom škaredého sporu, tak som sa rozhodol zasiahnuť.']"
      ]
     },
     "execution_count": 6,
     "metadata": {},
     "output_type": "execute_result"
    }
   ],
   "source": [
    "# from transformers import AutoModelForSeq2SeqLM, AutoTokenizer\n",
    "\n",
    "# tokenizer = AutoTokenizer.from_pretrained(\"facebook/nllb-200-distilled-600M\")\n",
    "# model = AutoModelForSeq2SeqLM.from_pretrained(\"facebook/nllb-200-distilled-600M\")\n",
    "\n",
    "article = sentences[:100]\n",
    "inputs = tokenizer(article, return_tensors='pt', padding=True).to('cuda')\n",
    "\n",
    "translated_tokens = model.generate(\n",
    "    **inputs, forced_bos_token_id=tokenizer.lang_code_to_id[\"slk_Latn\"], max_length=30\n",
    ")\n",
    "tokenizer.batch_decode(translated_tokens, skip_special_tokens=True)"
   ]
  },
  {
   "cell_type": "code",
   "execution_count": null,
   "id": "b1272d12-d863-477e-a9d7-392bf8b7b573",
   "metadata": {},
   "outputs": [],
   "source": []
  }
 ],
 "metadata": {
  "kernelspec": {
   "display_name": "Python 3 (ipykernel)",
   "language": "python",
   "name": "python3"
  },
  "language_info": {
   "codemirror_mode": {
    "name": "ipython",
    "version": 3
   },
   "file_extension": ".py",
   "mimetype": "text/x-python",
   "name": "python",
   "nbconvert_exporter": "python",
   "pygments_lexer": "ipython3",
   "version": "3.8.10"
  }
 },
 "nbformat": 4,
 "nbformat_minor": 5
}
