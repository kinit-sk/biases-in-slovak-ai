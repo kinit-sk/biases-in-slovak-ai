{
 "cells": [
  {
   "cell_type": "code",
   "execution_count": 1,
   "id": "45b56d19-9240-4612-a754-a8e440f1a3dc",
   "metadata": {},
   "outputs": [],
   "source": [
    "%load_ext autoreload\n",
    "%autoreload 2"
   ]
  },
  {
   "cell_type": "code",
   "execution_count": 1,
   "id": "0dc49a34-4523-4b56-98e6-0ba1b514aa91",
   "metadata": {},
   "outputs": [
    {
     "name": "stderr",
     "output_type": "stream",
     "text": [
      "/usr/local/lib/python3.8/dist-packages/tqdm/auto.py:21: TqdmWarning: IProgress not found. Please update jupyter and ipywidgets. See https://ipywidgets.readthedocs.io/en/stable/user_install.html\n",
      "  from .autonotebook import tqdm as notebook_tqdm\n",
      "INFO:translators.translator:Loaded translations: 0\n",
      "Downloading (…)okenizer_config.json: 100%|██████████████████████████████████████████████| 564/564 [00:00<00:00, 154kB/s]\n",
      "Downloading (…)tencepiece.bpe.model: 100%|█████████████████████████████████████████| 4.85M/4.85M [00:04<00:00, 1.13MB/s]\n",
      "Downloading tokenizer.json: 100%|██████████████████████████████████████████████████| 17.3M/17.3M [00:12<00:00, 1.36MB/s]\n",
      "Downloading (…)cial_tokens_map.json: 100%|██████████████████████████████████████████| 3.55k/3.55k [00:00<00:00, 691kB/s]\n",
      "Downloading (…)lve/main/config.json: 100%|██████████████████████████████████████████████| 846/846 [00:00<00:00, 787kB/s]\n",
      "Downloading pytorch_model.bin:  15%|███████▎                                        | 377M/2.46G [04:31<20:14, 1.72MB/s]\n",
      "KeyboardInterrupt\n",
      "\n",
      "Downloading pytorch_model.bin:  15%|███████▎                                        | 377M/2.46G [04:49<20:14, 1.72MB/s]"
     ]
    }
   ],
   "source": [
    "import os\n",
    "os.environ['CURL_CA_BUNDLE'] = ''\n",
    "\n",
    "from translators.nllb import NLLB200\n",
    "\n",
    "t = NLLB200(data_path='./cache/test', target_language='sk', variant='600M', device='cpu').load()"
   ]
  },
  {
   "cell_type": "code",
   "execution_count": null,
   "id": "6828a2c2-6331-43a1-9483-62cea59d9245",
   "metadata": {},
   "outputs": [],
   "source": [
    "t.translate(['Man: I like cooking.', 'Woman: I like cooking.'])"
   ]
  },
  {
   "cell_type": "code",
   "execution_count": null,
   "id": "ee8a126c-85ab-450e-aab2-9a6f256cd43a",
   "metadata": {},
   "outputs": [],
   "source": [
    "t"
   ]
  },
  {
   "cell_type": "code",
   "execution_count": null,
   "id": "94bafe28-7c68-40f5-ba8d-cbad0c86039e",
   "metadata": {},
   "outputs": [],
   "source": []
  }
 ],
 "metadata": {
  "kernelspec": {
   "display_name": "Python 3 (ipykernel)",
   "language": "python",
   "name": "python3"
  },
  "language_info": {
   "codemirror_mode": {
    "name": "ipython",
    "version": 3
   },
   "file_extension": ".py",
   "mimetype": "text/x-python",
   "name": "python",
   "nbconvert_exporter": "python",
   "pygments_lexer": "ipython3",
   "version": "3.8.10"
  }
 },
 "nbformat": 4,
 "nbformat_minor": 5
}
